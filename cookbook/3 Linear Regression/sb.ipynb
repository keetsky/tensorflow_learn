{
 "cells": [
  {
   "cell_type": "markdown",
   "metadata": {},
   "source": [
    "# a=[1,2,3,4]\n",
    "## 大数发达\n",
    "**dfd**\n",
    "![svb](Demming regression_line.png)\n",
    "*afdsa*\n",
    "#### 第一章\n",
    "\n",
    "1. 第一节\n",
    "* 第二节(你不用敲 \"2\"，自动就有了）\n",
    "    * 第一小节（推荐每层次缩进四个空格）\n",
    "        * 小小节 1\n",
    "        * 小小节 2\n",
    "    * 第二小节\n",
    "        * 小小节 1\n",
    "        * 小小节 2\n",
    "> 我不是沙发大还是法大数\n",
    "\n",
    "\n",
    "dad [^footnote]\n",
    "\n",
    "[^footnote]: hahaha \n",
    "   \n",
    "<kbd>Ctrl+b</kbd>\n",
    "    \n",
    "***\n",
    "ddd\n",
    "\n",
    "| 我的博客 | 浏览量   |  点赞量  |\n",
    "| ----  | -----:  | :----    |\n",
    "| 简书     | 1000 |   500     |\n",
    "| 博客园 | 2000  |   120  |\n",
    "\n",
    "\n"
   ]
  },
  {
   "cell_type": "markdown",
   "metadata": {},
   "source": [
    "# print(a)"
   ]
  },
  {
   "cell_type": "code",
   "execution_count": 3,
   "metadata": {
    "collapsed": false
   },
   "outputs": [
    {
     "name": "stdout",
     "output_type": "stream",
     "text": [
      "/bin/sh: 1: Syntax error: word unexpected (expecting \")\")\r\n"
     ]
    }
   ],
   "source": [
    "![svb](http://img.361games.com/file/tu/meinv/ylep1ek4img.jpg)"
   ]
  },
  {
   "cell_type": "code",
   "execution_count": null,
   "metadata": {
    "collapsed": true
   },
   "outputs": [],
   "source": []
  }
 ],
 "metadata": {
  "kernelspec": {
   "display_name": "Python 3",
   "language": "python",
   "name": "python3"
  },
  "language_info": {
   "codemirror_mode": {
    "name": "ipython",
    "version": 3
   },
   "file_extension": ".py",
   "mimetype": "text/x-python",
   "name": "python",
   "nbconvert_exporter": "python",
   "pygments_lexer": "ipython3",
   "version": "3.6.0"
  }
 },
 "nbformat": 4,
 "nbformat_minor": 2
}
