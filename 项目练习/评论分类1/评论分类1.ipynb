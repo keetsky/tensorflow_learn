{
 "cells": [
  {
   "cell_type": "code",
   "execution_count": 56,
   "metadata": {
    "collapsed": false
   },
   "outputs": [
    {
     "data": {
      "text/plain": [
       "' \\n词形还原(lemmatizer)，即把一个任何形式的英语单词还原到一般形式，与词根还原不同(stemmer)，后者是抽取一个单词的词根。 \\ndogs->dog,churches->church,abaci->abacus,\\n'"
      ]
     },
     "execution_count": 56,
     "metadata": {},
     "output_type": "execute_result"
    }
   ],
   "source": [
    "#python3\n",
    "import numpy as np\n",
    "import tensorflow as tf\n",
    "import random \n",
    "import pickle\n",
    "from collections import Counter\n",
    "import nltk\n",
    "from nltk.tokenize import word_tokenize \n",
    "\"\"\" \n",
    "功能：将语句分开\n",
    "'I'm super man' \n",
    "tokenize: \n",
    "['I', ''m', 'super','man' ]  \n",
    "\"\"\" \n",
    "from nltk.stem import WordNetLemmatizer\n",
    "\"\"\" \n",
    "词形还原(lemmatizer)，即把一个任何形式的英语单词还原到一般形式，与词根还原不同(stemmer)，后者是抽取一个单词的词根。 \n",
    "dogs->dog,churches->church,abaci->abacus,\n",
    "\"\"\" "
   ]
  },
  {
   "cell_type": "markdown",
   "metadata": {},
   "source": [
    "#### 正样本，负样本"
   ]
  },
  {
   "cell_type": "code",
   "execution_count": 57,
   "metadata": {
    "collapsed": true
   },
   "outputs": [],
   "source": [
    "pos_file='pos.txt'\n",
    "neg_file='neg.txt'"
   ]
  },
  {
   "cell_type": "markdown",
   "metadata": {},
   "source": [
    "#### 创建词汇表"
   ]
  },
  {
   "cell_type": "code",
   "execution_count": 58,
   "metadata": {
    "collapsed": false
   },
   "outputs": [
    {
     "name": "stdout",
     "output_type": "stream",
     "text": [
      "230756\n"
     ]
    }
   ],
   "source": [
    "def create_lexicon(pos_file,neg_file):\n",
    "    lex=[]\n",
    "    #读取文件\n",
    "    def process_file(f):\n",
    "        with open(pos_file,'r') as f:\n",
    "            lex_f=[]\n",
    "            lines=f.readlines()\n",
    "            for line in lines:\n",
    "                #先转化为小写，然后按空格或别的智能划分单词\n",
    "                words=word_tokenize(line.lower())\n",
    "                lex_f+=words\n",
    "            return lex_f\n",
    "    #将处理后的正负样本都存放到lex列表中\n",
    "    lex+=process_file(pos_file)\n",
    "    lex+=process_file(neg_file)\n",
    "    print(len(lex))\n",
    "    ## 词形还原 (cats->cat)  \n",
    "    lemmatizer=WordNetLemmatizer()\n",
    "    lex=[lemmatizer.lemmatize(word) for word in lex]\n",
    "    #词计数,结果为字典类型\n",
    "    #{'.': 13944, ',': 10536, 'the': 10120, 'a': 9444, 'and': 7108, ......}  \n",
    "    word_count=Counter(lex)\n",
    "    # 去掉一些常用词,像the,a and等等，和一些不常用词; 这些词对判断一个评论是正面还是负面没有做任何贡献  \n",
    "    lex_PN=[]\n",
    "    for word in word_count:\n",
    "        #自己认为计数大于20且小于2000的认为无用数据\n",
    "        if word_count[word]<2000 and word_count[word]>20:\n",
    "            lex_PN.append(word)\n",
    "    return lex_PN\n",
    "\n",
    "lex=create_lexicon(pos_file,neg_file)"
   ]
  },
  {
   "cell_type": "markdown",
   "metadata": {},
   "source": [
    "##### 把每条评论转换为向量, 转换原理：  \n",
    "#假设lex为['woman', 'great', 'feel', 'actually', 'looking', 'latest', 'seen', 'think'] 当然实际上要大的多  \n",
    " 评论'i think this movie is great' 转换为 [0,1,0,0,0,0,0,1], 把评论中出现的字在lex中标记，出现过的标记为1，其余标记为0  "
   ]
  },
  {
   "cell_type": "code",
   "execution_count": 59,
   "metadata": {
    "collapsed": false
   },
   "outputs": [],
   "source": [
    "def normalize_dataset(lex):\n",
    "    dataset=[]\n",
    "    # lex:词汇表；review:评论；clf:评论对应的分类，[0,1]代表负面评论 [1,0]代表正面评论 \n",
    "    def string_to_vector(lex,review,clf):\n",
    "        words=word_tokenize(line.lower())\n",
    "        lemmatizer = WordNetLemmatizer()  \n",
    "        words = [lemmatizer.lemmatize(word) for word in words] \n",
    "        features=np.zeros(len(lex))\n",
    "        for word in words:\n",
    "            if word in lex:\n",
    "                features[lex.index(word)]=1#如果word出现在lexz中,则对应位置赋值为1\n",
    "        return [features,clf]\n",
    "    with open(pos_file,'r') as f:\n",
    "        lines=f.readlines()\n",
    "        for line in lines:\n",
    "            one_sample=string_to_vector(lex,line,[1,0])# # [array([ 0.,  1.,  0., ...,  0.,  0.,  0.]), [1,0]]  \n",
    "            dataset.append(one_sample)\n",
    "    with open(neg_file,'r') as f:\n",
    "        lines=f.readlines()\n",
    "        for line in lines:\n",
    "            one_sample=string_to_vector(lex,line,[0,1])\n",
    "            dataset.append(one_sample)\n",
    "    return dataset\n",
    "dataset=normalize_dataset(lex)#获取样本\n",
    "random.shuffle(dataset)#按行打乱样本\n",
    "\n",
    "    "
   ]
  },
  {
   "cell_type": "markdown",
   "metadata": {},
   "source": [
    "#### 定义待训练的神经网络"
   ]
  },
  {
   "cell_type": "code",
   "execution_count": 60,
   "metadata": {
    "collapsed": true
   },
   "outputs": [],
   "source": [
    "\"\"\" \n",
    "#把整理好的数据保存到文件，方便使用。到此完成了数据的整理工作 \n",
    "with open('save.pickle', 'wb') as f: \n",
    "    pickle.dump(dataset, f) \n",
    "\"\"\"  \n",
    "   \n",
    "# 取样本中的10%做为测试数据 \n",
    "test_size = int(len(dataset) * 0.1)  \n",
    "   \n",
    "dataset = np.array(dataset)  \n",
    "   \n",
    "train_dataset = dataset[:-test_size]  \n",
    "test_dataset = dataset[-test_size:]"
   ]
  },
  {
   "cell_type": "code",
   "execution_count": 61,
   "metadata": {
    "collapsed": true
   },
   "outputs": [],
   "source": [
    "# Feed-Forward Neural Network  \n",
    "# 定义每个层有多少'神经元''  \n",
    "n_input_layer = len(lex)  # 输入层  \n",
    "   \n",
    "n_layer_1 = 1000    # hide layer  \n",
    "n_layer_2 = 1000    # hide layer(隐藏层)听着很神秘，其实就是除输入输出层外的中间层  \n",
    "   \n",
    "n_output_layer = 2       # 输出层 \n",
    "def neural_network(data):  \n",
    "    # 定义第一层\"神经元\"的权重和biases  \n",
    "    layer_1_w_b = {'w_':tf.Variable(tf.random_normal([n_input_layer, n_layer_1])), \\\n",
    "                   'b_':tf.Variable(tf.random_normal([n_layer_1]))}  \n",
    "    # 定义第二层\"神经元\"的权重和biases  \n",
    "    layer_2_w_b = {'w_':tf.Variable(tf.random_normal([n_layer_1, n_layer_2])), \\\n",
    "                   'b_':tf.Variable(tf.random_normal([n_layer_2]))}  \n",
    "    # 定义输出层\"神经元\"的权重和biases  \n",
    "    layer_output_w_b = {'w_':tf.Variable(tf.random_normal([n_layer_2, n_output_layer])), \\\n",
    "                        'b_':tf.Variable(tf.random_normal([n_output_layer]))}  \n",
    "   \n",
    "    # w·x+b  \n",
    "    layer_1 = tf.add(tf.matmul(data, layer_1_w_b['w_']), layer_1_w_b['b_'])  \n",
    "    layer_1 = tf.nn.relu(layer_1)  # 激活函数  \n",
    "    layer_2 = tf.add(tf.matmul(layer_1, layer_2_w_b['w_']), layer_2_w_b['b_'])  \n",
    "    layer_2 = tf.nn.relu(layer_2 ) # 激活函数  \n",
    "    layer_output = tf.add(tf.matmul(layer_2, layer_output_w_b['w_']), layer_output_w_b['b_'])  \n",
    "   \n",
    "    return layer_output"
   ]
  },
  {
   "cell_type": "code",
   "execution_count": null,
   "metadata": {
    "collapsed": true
   },
   "outputs": [],
   "source": []
  },
  {
   "cell_type": "code",
   "execution_count": 55,
   "metadata": {
    "collapsed": false,
    "scrolled": true
   },
   "outputs": [
    {
     "name": "stdout",
     "output_type": "stream",
     "text": [
      "WARNING:tensorflow:From <ipython-input-55-9a5fe93fe70b>:15: initialize_all_variables (from tensorflow.python.ops.variables) is deprecated and will be removed after 2017-03-02.\n",
      "Instructions for updating:\n",
      "Use `tf.global_variables_initializer` instead.\n",
      "0  :  1041.43304443\n",
      "1  :  1041.43304443\n",
      "2  :  1041.43304443\n",
      "3  :  1041.43304443\n",
      "4  :  1041.43304443\n",
      "5  :  1041.43304443\n",
      "6  :  1041.43304443\n",
      "7  :  1041.43304443\n",
      "8  :  1041.43304443\n",
      "9  :  1041.43304443\n",
      "10  :  1041.43304443\n",
      "11  :  1041.43304443\n",
      "12  :  1041.43304443\n",
      "准确率:  0.511257\n"
     ]
    }
   ],
   "source": [
    "# 每次使用50条数据进行训练  \n",
    "batch_size = 50  \n",
    "   \n",
    "X = tf.placeholder('float', [None, len(train_dataset[0][0])])   \n",
    "#[None, len(train_x)]代表数据数据的高和宽（矩阵），好处是如果数据不符合宽高，tensorflow会报错，不指定也可以。  \n",
    "Y = tf.placeholder('float')  \n",
    "# 使用数据训练神经网络  \n",
    "def train_neural_network(X, Y):  \n",
    "    predict = neural_network(X)  \n",
    "    cost_func = tf.reduce_mean(tf.nn.softmax_cross_entropy_with_logits(logits=predict, labels=Y))  \n",
    "    optimizer = tf.train.AdamOptimizer().minimize(cost_func)  # learning rate 默认 0.001   \n",
    "   \n",
    "    epochs = 13  \n",
    "    with tf.Session() as session:  \n",
    "        session.run(tf.initialize_all_variables())  \n",
    "        epoch_loss = 0  \n",
    "   \n",
    "        i = 0  \n",
    "\n",
    "        for epoch in range(epochs): \n",
    "            #每次取出batch_size大小数据训练\n",
    "            random.shuffle(train_dataset)#打乱训练样本，\n",
    "            #mini_batches=[train_dataset[k:k+batch_size] for k in range(0,len(train_dataset))]\n",
    "            #for mini_batch in mini_batches:\n",
    "            #    batch_x=mini_batch[:,0]\n",
    "            #    batch_y=mini_batch[:,1]\n",
    "                \n",
    "            train_x = train_dataset[:, 0]  #\n",
    "            train_y = train_dataset[:, 1]  #\n",
    "            while i < len(train_x):  \n",
    "                start = i  \n",
    "                end = i + batch_size  \n",
    "   \n",
    "                batch_x = train_x[start:end]  \n",
    "                batch_y = train_y[start:end]  \n",
    "   \n",
    "                _, c = session.run([optimizer, cost_func], feed_dict={X:list(batch_x),Y:list(batch_y)})  \n",
    "                epoch_loss += c  \n",
    "                i += batch_size  \n",
    "   \n",
    "            print(epoch, ' : ', epoch_loss)  \n",
    "   \n",
    "        text_x = test_dataset[: ,0]  \n",
    "        text_y = test_dataset[:, 1]  \n",
    "        correct = tf.equal(tf.argmax(predict,1), tf.argmax(Y,1))  \n",
    "        accuracy = tf.reduce_mean(tf.cast(correct,'float'))  \n",
    "        print('准确率: ', accuracy.eval({X:list(text_x) , Y:list(text_y)}))  \n",
    "train_neural_network(X,Y) "
   ]
  },
  {
   "cell_type": "code",
   "execution_count": null,
   "metadata": {
    "collapsed": true
   },
   "outputs": [],
   "source": []
  }
 ],
 "metadata": {
  "kernelspec": {
   "display_name": "Python 3",
   "language": "python",
   "name": "python3"
  },
  "language_info": {
   "codemirror_mode": {
    "name": "ipython",
    "version": 3
   },
   "file_extension": ".py",
   "mimetype": "text/x-python",
   "name": "python",
   "nbconvert_exporter": "python",
   "pygments_lexer": "ipython3",
   "version": "3.6.0"
  }
 },
 "nbformat": 4,
 "nbformat_minor": 2
}
